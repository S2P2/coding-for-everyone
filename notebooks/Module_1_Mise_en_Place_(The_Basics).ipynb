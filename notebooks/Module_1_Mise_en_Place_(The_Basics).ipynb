{
  "nbformat": 4,
  "nbformat_minor": 0,
  "metadata": {
    "colab": {
      "provenance": [],
      "toc_visible": true,
      "include_colab_link": true
    },
    "kernelspec": {
      "name": "python3",
      "display_name": "Python 3"
    },
    "language_info": {
      "name": "python"
    }
  },
  "cells": [
    {
      "cell_type": "markdown",
      "metadata": {
        "id": "view-in-github",
        "colab_type": "text"
      },
      "source": [
        "<a href=\"https://colab.research.google.com/github/S2P2/coding-for-everyone/blob/main/notebooks/Module_1_Mise_en_Place_(The_Basics).ipynb\" target=\"_parent\"><img src=\"https://colab.research.google.com/assets/colab-badge.svg\" alt=\"Open In Colab\"/></a>"
      ]
    },
    {
      "cell_type": "markdown",
      "source": [
        "# Coding for everyone - Module 1: Mise en Place (The Basics)\n",
        "\n",
        "Welcome to your first module\\! Think of this as learning your way around a new kitchen. We'll cover the three most essential concepts you need before you can start cooking up code.\n",
        "\n",
        "* **Hello, World\\! (Displaying Output)**: This is how your program communicates, like the \"ding\\!\" of a microwave. It's the simplest way to confirm your kitchen is set up and working.\n",
        "* **Comments (Leaving Notes)**: These are notes for yourself or others, like scribbling \"use less salt\" in a cookbook's margin. The computer ignores them completely.\n",
        "* **Variables (Storing Information)**: These are your labeled prep bowls for ingredients (data), keeping everything organized and easy to find when your recipe calls for it.\n",
        "\n",
        "Let's get started."
      ],
      "metadata": {
        "id": "lLgBI-v0IcLH"
      }
    },
    {
      "cell_type": "markdown",
      "source": [
        "# The Microwave 'Ding!' (Displaying Output)\n",
        "\n",
        "A simple way to display output from the computer to the screen.\n",
        "\n",
        "Think of this as the \"ding!\" from your microwave. It's the simplest way for your program to tell you that it's on and working.\n"
      ],
      "metadata": {
        "id": "jSvWYJvgIgec"
      }
    },
    {
      "cell_type": "code",
      "source": [
        "print(\"Ding!\")"
      ],
      "metadata": {
        "colab": {
          "base_uri": "https://localhost:8080/"
        },
        "id": "cWbPFkNAIkhp",
        "outputId": "0b2652d8-9574-4e75-ef6f-36cc5e2b2415"
      },
      "execution_count": null,
      "outputs": [
        {
          "output_type": "stream",
          "name": "stdout",
          "text": [
            "Ding!\n"
          ]
        }
      ]
    },
    {
      "cell_type": "markdown",
      "source": [
        "Try changing the message inside the quotation marks and running the code. You've just served your first \"dish\"!"
      ],
      "metadata": {
        "id": "oMho50F6Ind-"
      }
    },
    {
      "cell_type": "markdown",
      "source": [
        "# Taking an Order (User Input)\n",
        "\n",
        "So far, our program can talk, but it can't listen. We've used `print()` to display messages, but what if we want to ask the user a question and use their answer?\n",
        "\n",
        "Getting information from the user is called **user input**. Think of it as your program taking a customer's order. It asks a question, waits for an answer, and then stores that answer in a variable to use later."
      ],
      "metadata": {
        "id": "VTZwNpxFI2-S"
      }
    },
    {
      "cell_type": "code",
      "source": [
        "print(\"Great choice! So you'd like to order\", input(\"What would you like to order? \"), \". Coming right up!\")"
      ],
      "metadata": {
        "colab": {
          "base_uri": "https://localhost:8080/"
        },
        "id": "53VVcpokJ-GU",
        "outputId": "1de94a44-189a-4668-95ca-9b4b9c9bb0d6"
      },
      "execution_count": null,
      "outputs": [
        {
          "output_type": "stream",
          "name": "stdout",
          "text": [
            "What would you like to order? Coffee\n",
            "Great choice! So you'd like to order Coffee . Coming right up!\n"
          ]
        }
      ]
    },
    {
      "cell_type": "markdown",
      "metadata": {
        "id": "8d376a12"
      },
      "source": [
        "This code works, but it's a bit unusual. In most cases, you'll want to store the user's input in a variable first so you can use it multiple times or manipulate it before displaying it. We'll see examples of this later when we introduce variables."
      ]
    },
    {
      "cell_type": "markdown",
      "source": [
        "User input is almost always received as a string (text)\n",
        "If you ask for a number and want to do math with it, you'll need to convert it first!\n",
        "\n",
        "We'll see how to do that in our final project."
      ],
      "metadata": {
        "id": "eukPhFx0JV7o"
      }
    },
    {
      "cell_type": "markdown",
      "source": [
        "\n",
        "\n",
        "### Mini-Exercise 💡\n",
        "\n",
        "1.  Ask the user for their favorite food.\n",
        "2.  Print a message that says \"Oh, you like [user's favorite food]? That sounds delicious!\""
      ],
      "metadata": {
        "id": "Z4tuVuQxJTap"
      }
    },
    {
      "cell_type": "markdown",
      "source": [
        "# Prep Bowls (Variables)\n",
        "\n",
        "A variable is a labeled container for a piece of information, like using a labeled bowl for an ingredient. This practice, known in cooking as *mise en place*, keeps your code organized and easy to read.\n",
        "\n",
        "The equals sign (`=`) is the **assignment operator**. It's an action, not a question. It means: \"Put the value on the right into the container on the left.\""
      ],
      "metadata": {
        "id": "dVvsuQVuJwoN"
      }
    },
    {
      "cell_type": "code",
      "source": [
        "# Create a variable 'number_of_eggs' and assign the value 3 to it.\n",
        "number_of_eggs = 3\n",
        "\n",
        "# Now we can use the variable's name to get its value.\n",
        "# This will display the number 3.\n",
        "print(number_of_eggs)"
      ],
      "metadata": {
        "colab": {
          "base_uri": "https://localhost:8080/"
        },
        "id": "Lh5N5NpDJzqo",
        "outputId": "38d9574f-7026-4577-9395-fb19e4dfce12"
      },
      "execution_count": null,
      "outputs": [
        {
          "output_type": "stream",
          "name": "stdout",
          "text": [
            "3\n"
          ]
        }
      ]
    },
    {
      "cell_type": "markdown",
      "metadata": {
        "id": "824ee509"
      },
      "source": [
        "### Variables and Naming Conventions in Python\n",
        "\n",
        "Variables are essential for **storing information** and referring to it by name throughout your code.\n",
        "\n",
        "---\n",
        "\n",
        "#### Python Style Conventions\n",
        "\n",
        "* **Variable & Function Names:** Use **`snake_case`** (all lowercase, words separated by underscores).\n",
        "    * *Example:* `user_name`, `calculate_total`.\n",
        "    * *Convention:* This style is strongly enforced by the [PEP 8 style guide](https://peps.python.org/pep-0008/) for Python.\n",
        "* **Constants:** Use **`SCREAMING_SNAKE_CASE`** (all uppercase, words separated by underscores).\n",
        "    * *Example:* `MAX_SIZE`, `DEFAULT_TIMEOUT`.\n",
        "* **Types (Classes, etc.):** Use **`PascalCase`** (the first letter of every word is capitalized). This is a universal convention across many languages.\n",
        "    * *Example:* `UserAccount`, `DatabaseConnection`.\n",
        "\n",
        "---\n",
        "\n",
        "#### Quick Naming Style Definitions\n",
        "\n",
        "| Style | Description | Example |\n",
        "| :--- | :--- | :--- |\n",
        "| **`snake_case`** | Lowercase words, underscore separated. | `first_name` |\n",
        "| **`PascalCase`** | All words start with a capital letter. | `UserAccount` |\n",
        "| **`SCREAMING_SNAKE_CASE`** | Uppercase words, underscore separated. | `MAX_COUNT` |\n",
        "| `camelCase` | First word lowercase, subsequent words start with a capital letter. (Used in JavaScript, *not* Python). | `firstName` |"
      ]
    },
    {
      "cell_type": "markdown",
      "source": [
        "### Mini-Exercise 💡\n",
        "\n",
        "1.  Declare a variable to store the name of your favorite dish.\n",
        "3.  Print that variable to the screen."
      ],
      "metadata": {
        "id": "AXsY-n5oLrvF"
      }
    },
    {
      "cell_type": "markdown",
      "source": [
        "# Notes in the Margin (Comments)\n",
        "\n",
        "Comments are notes for humans. The computer that **runs** your program will completely ignore them, much like a note you'd write in the margin of a recipe. Their purpose is to make the code easier for people to understand.\n",
        "\n",
        "It's important to note that while the program ignores comments during execution, other tools like AI assistants can read them to understand the code's purpose and context.\n",
        "\n",
        "A good comment explains the **why**, not just the *what*.\n",
        "\n",
        "### Bad Comment 👎\n",
        "This comment is redundant because it only states what the code is already doing.\n",
        "\n",
        "```python\n",
        "# Sets the oven temperature to 400.\n",
        "oven_temperature = 400\n",
        "```\n",
        "\n",
        "### Good Comment 👍\n",
        "This comment is helpful because it explains the reasoning why the temperature is set so high, which isn't obvious from the code itself.\n",
        "\n",
        "```python\n",
        "# Set oven to a high temperature to get a good char on the vegetables.\n",
        "oven_temperature = 400\n",
        "```\n"
      ],
      "metadata": {
        "id": "OxcPkERnMEDm"
      }
    },
    {
      "cell_type": "markdown",
      "source": [
        "# About this notebook"
      ],
      "metadata": {
        "id": "Ip7pBCRpNj3z"
      }
    },
    {
      "cell_type": "markdown",
      "metadata": {
        "id": "20813c89"
      },
      "source": [
        "This notebook is the Python version of the coding tutorial available at: https://s2p2.github.io/coding-for-everyone/"
      ]
    },
    {
      "cell_type": "markdown",
      "metadata": {
        "id": "fedcd8f0"
      },
      "source": [
        "## License\n",
        "<a rel=\"license\" href=\"http://creativecommons.org/licenses/by-nc-sa/4.0/\"><img alt=\"Creative Commons License\" style=\"border-width:0\" src=\"https://i.creativecommons.org/l/by-nc-sa/4.0/88x31.png\" /></a><br />This work is licensed under a <a rel=\"license\" href=\"http://creativecommons.org/licenses/by-nc-sa/4.0/\">Creative Commons Attribution-NonCommercial-ShareAlike 4.0 International License</a>.<br />Author: Sathianphong Phongsathian, 2025"
      ]
    }
  ]
}